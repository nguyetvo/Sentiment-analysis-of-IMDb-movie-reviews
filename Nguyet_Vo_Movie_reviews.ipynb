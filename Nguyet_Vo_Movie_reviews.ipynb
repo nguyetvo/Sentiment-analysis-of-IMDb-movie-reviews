{
  "nbformat": 4,
  "nbformat_minor": 0,
  "metadata": {
    "colab": {
      "name": "Nguyet Vo_Movie-reviews.ipynb",
      "provenance": [],
      "collapsed_sections": []
    },
    "kernelspec": {
      "name": "python3",
      "display_name": "Python 3"
    }
  },
  "cells": [
    {
      "cell_type": "markdown",
      "metadata": {
        "id": "LbgPR45ATlgA",
        "colab_type": "text"
      },
      "source": [
        "# Sentiment analysis of IMDb movie reviews"
      ]
    },
    {
      "cell_type": "markdown",
      "metadata": {
        "id": "J-GANleRTv-6",
        "colab_type": "text"
      },
      "source": [
        "![alt text](https://i.redd.it/p7fffxg63tp01.jpg)\n",
        "\n",
        "**Nguyet Vo**"
      ]
    },
    {
      "cell_type": "markdown",
      "metadata": {
        "id": "v-PvTNnTT5rh",
        "colab_type": "text"
      },
      "source": [
        "**INTRODUCTION:**\n",
        "\n",
        "IMDb (Internet Movie Database) is an online database of information related to films, television programs, home videos, video games, and streaming content online – including cast, production crew and personal biographies, plot summaries, trivia, fan and critical reviews, and ratings. An additional fan feature, message boards, was abandoned in February 2017. Originally a fan-operated website, the database is owned and operated by IMDb.com, Inc., a subsidiary of Amazon. By late 1990, the lists included almost 10,000 movies and television series correlated with actors and actresses appearing therein. On October 17, 1990, Needham developed and posted a collection of Unix shell scripts which could be used to search the four lists, and thus the database that would become the IMDb was born.At the time, it was known as the rec.arts.movies movie database. Internet Movie Database users are invited to participate in the site's ever-growing wealth of information by rating movies on a rating scale. The labeled dataset consists of 50,000 IMDB movie reviews. No individual movie has more than 30 reviews. The 25,000 reviews labeled training set does not include any of the same movies as the 25,000 review test set.\n",
        "\n",
        "There are three columns in the movie review dataset:\n",
        "- Id\n",
        "- Review\n",
        "- Sentiment\n",
        "\n",
        "There are two classes in the movie review dataset:\n",
        "- 1 : >= 7 rating\n",
        "- 0: < 5 rating\n",
        "\n",
        "This project explores the applicability of machine learning based classification techniques:\n",
        "-  Logistic Regression\n",
        "\n"
      ]
    },
    {
      "cell_type": "code",
      "metadata": {
        "id": "B4LbGSupT313",
        "colab_type": "code",
        "colab": {}
      },
      "source": [
        "import numpy as np\n",
        "import pandas as pd"
      ],
      "execution_count": 0,
      "outputs": []
    },
    {
      "cell_type": "code",
      "metadata": {
        "id": "Sss8ZHRrKT2p",
        "colab_type": "code",
        "colab": {}
      },
      "source": [
        "import matplotlib.pyplot as plt\n",
        "\n",
        "import warnings # This is just to hide the warnings, you don't have to worry about this\n",
        "warnings.simplefilter(action='ignore', category=FutureWarning)\n",
        "\n",
        "%matplotlib inline"
      ],
      "execution_count": 0,
      "outputs": []
    },
    {
      "cell_type": "code",
      "metadata": {
        "id": "ku0wdXUxKUuI",
        "colab_type": "code",
        "outputId": "27d569bb-e94b-4fcd-ab2a-11d533cc88b8",
        "colab": {
          "base_uri": "https://localhost:8080/",
          "height": 32
        }
      },
      "source": [
        "from google.colab import drive\n",
        "drive.mount('gdrive')"
      ],
      "execution_count": 3,
      "outputs": [
        {
          "output_type": "stream",
          "text": [
            "Drive already mounted at gdrive; to attempt to forcibly remount, call drive.mount(\"gdrive\", force_remount=True).\n"
          ],
          "name": "stdout"
        }
      ]
    },
    {
      "cell_type": "code",
      "metadata": {
        "id": "ZYzzyMHmO2fK",
        "colab_type": "code",
        "colab": {}
      },
      "source": [
        "# Read data\n",
        "df  = pd.read_csv('gdrive/My Drive/FTMLE - Tonga/Data/movie_review.csv', encoding='utf-8', sep='\\t')"
      ],
      "execution_count": 0,
      "outputs": []
    },
    {
      "cell_type": "code",
      "metadata": {
        "id": "OB8d-MGMAV3S",
        "colab_type": "code",
        "outputId": "d21d0ea5-52c3-4741-f9e5-0fc9bb0cb47d",
        "colab": {
          "base_uri": "https://localhost:8080/",
          "height": 201
        }
      },
      "source": [
        "df.sample(5)"
      ],
      "execution_count": 6,
      "outputs": [
        {
          "output_type": "execute_result",
          "data": {
            "text/html": [
              "<div>\n",
              "<style scoped>\n",
              "    .dataframe tbody tr th:only-of-type {\n",
              "        vertical-align: middle;\n",
              "    }\n",
              "\n",
              "    .dataframe tbody tr th {\n",
              "        vertical-align: top;\n",
              "    }\n",
              "\n",
              "    .dataframe thead th {\n",
              "        text-align: right;\n",
              "    }\n",
              "</style>\n",
              "<table border=\"1\" class=\"dataframe\">\n",
              "  <thead>\n",
              "    <tr style=\"text-align: right;\">\n",
              "      <th></th>\n",
              "      <th>id</th>\n",
              "      <th>review</th>\n",
              "      <th>sentiment</th>\n",
              "    </tr>\n",
              "  </thead>\n",
              "  <tbody>\n",
              "    <tr>\n",
              "      <th>16214</th>\n",
              "      <td>5471_8</td>\n",
              "      <td>During 1933 this film had many cuts taken from...</td>\n",
              "      <td>1</td>\n",
              "    </tr>\n",
              "    <tr>\n",
              "      <th>19191</th>\n",
              "      <td>6666_7</td>\n",
              "      <td>I can't say that this film deserves anywhere n...</td>\n",
              "      <td>1</td>\n",
              "    </tr>\n",
              "    <tr>\n",
              "      <th>4718</th>\n",
              "      <td>8848_7</td>\n",
              "      <td>I watched this film in a very strange way -- I...</td>\n",
              "      <td>1</td>\n",
              "    </tr>\n",
              "    <tr>\n",
              "      <th>17168</th>\n",
              "      <td>12441_4</td>\n",
              "      <td>Some things need to be clarified. The picture ...</td>\n",
              "      <td>0</td>\n",
              "    </tr>\n",
              "    <tr>\n",
              "      <th>13598</th>\n",
              "      <td>5847_10</td>\n",
              "      <td>Though this series only ran a season, it has s...</td>\n",
              "      <td>1</td>\n",
              "    </tr>\n",
              "  </tbody>\n",
              "</table>\n",
              "</div>"
            ],
            "text/plain": [
              "            id                                             review  sentiment\n",
              "16214   5471_8  During 1933 this film had many cuts taken from...          1\n",
              "19191   6666_7  I can't say that this film deserves anywhere n...          1\n",
              "4718    8848_7  I watched this film in a very strange way -- I...          1\n",
              "17168  12441_4  Some things need to be clarified. The picture ...          0\n",
              "13598  5847_10  Though this series only ran a season, it has s...          1"
            ]
          },
          "metadata": {
            "tags": []
          },
          "execution_count": 6
        }
      ]
    },
    {
      "cell_type": "code",
      "metadata": {
        "id": "Bg6b24XTVxs7",
        "colab_type": "code",
        "colab": {
          "base_uri": "https://localhost:8080/",
          "height": 181
        },
        "outputId": "7d373294-27f0-41fa-aa49-7b4d88b2c4cb"
      },
      "source": [
        "df.info()"
      ],
      "execution_count": 16,
      "outputs": [
        {
          "output_type": "stream",
          "text": [
            "<class 'pandas.core.frame.DataFrame'>\n",
            "RangeIndex: 22500 entries, 0 to 22499\n",
            "Data columns (total 3 columns):\n",
            " #   Column     Non-Null Count  Dtype \n",
            "---  ------     --------------  ----- \n",
            " 0   id         22500 non-null  object\n",
            " 1   review     22500 non-null  object\n",
            " 2   sentiment  22500 non-null  int64 \n",
            "dtypes: int64(1), object(2)\n",
            "memory usage: 527.5+ KB\n"
          ],
          "name": "stdout"
        }
      ]
    },
    {
      "cell_type": "code",
      "metadata": {
        "id": "m1TLtv6sUoxJ",
        "colab_type": "code",
        "colab": {
          "base_uri": "https://localhost:8080/",
          "height": 65
        },
        "outputId": "81d9a1fd-3f75-406b-cd7a-bccda4c4f98c"
      },
      "source": [
        "df['sentiment'].value_counts()"
      ],
      "execution_count": 17,
      "outputs": [
        {
          "output_type": "execute_result",
          "data": {
            "text/plain": [
              "1    11278\n",
              "0    11222\n",
              "Name: sentiment, dtype: int64"
            ]
          },
          "metadata": {
            "tags": []
          },
          "execution_count": 17
        }
      ]
    },
    {
      "cell_type": "markdown",
      "metadata": {
        "id": "82L0Edb3WFsS",
        "colab_type": "text"
      },
      "source": [
        "I have a balanced dataset with 11,278 labeled 1 observations and 11,222 labled 0 observations."
      ]
    },
    {
      "cell_type": "markdown",
      "metadata": {
        "id": "FiMRi9r1WP6e",
        "colab_type": "text"
      },
      "source": [
        "# DATA CLEAN UP"
      ]
    },
    {
      "cell_type": "code",
      "metadata": {
        "id": "mBN0eftBluw1",
        "colab_type": "code",
        "colab": {}
      },
      "source": [
        "from collections import Counter\n",
        "vocab = Counter()\n",
        "for document in df['review']:\n",
        "  for word in document.split(' '):\n",
        "    vocab[word] += 1"
      ],
      "execution_count": 0,
      "outputs": []
    },
    {
      "cell_type": "code",
      "metadata": {
        "id": "O0MbxV3Ql4Nk",
        "colab_type": "code",
        "outputId": "b4238e53-be06-43c9-d8d8-69afdfe40048",
        "colab": {
          "base_uri": "https://localhost:8080/",
          "height": 345
        }
      },
      "source": [
        "vocab.most_common(20)"
      ],
      "execution_count": 23,
      "outputs": [
        {
          "output_type": "execute_result",
          "data": {
            "text/plain": [
              "[('the', 258519),\n",
              " ('a', 139707),\n",
              " ('and', 137397),\n",
              " ('of', 128750),\n",
              " ('to', 119278),\n",
              " ('is', 92935),\n",
              " ('in', 77245),\n",
              " ('I', 59255),\n",
              " ('that', 57991),\n",
              " ('this', 51379),\n",
              " ('it', 48865),\n",
              " ('/><br', 45851),\n",
              " ('was', 42004),\n",
              " ('as', 38288),\n",
              " ('with', 37496),\n",
              " ('for', 36919),\n",
              " ('The', 30399),\n",
              " ('but', 30350),\n",
              " ('on', 27738),\n",
              " ('movie', 27342)]"
            ]
          },
          "metadata": {
            "tags": []
          },
          "execution_count": 23
        }
      ]
    },
    {
      "cell_type": "code",
      "metadata": {
        "id": "ABXE6wTvmAWc",
        "colab_type": "code",
        "colab": {
          "base_uri": "https://localhost:8080/",
          "height": 49
        },
        "outputId": "c16cd11a-8c71-4956-f1c4-41410479f060"
      },
      "source": [
        "import nltk\n",
        "nltk.download('stopwords')\n",
        "from nltk.corpus import stopwords\n",
        "stop = stopwords.words('english')"
      ],
      "execution_count": 24,
      "outputs": [
        {
          "output_type": "stream",
          "text": [
            "[nltk_data] Downloading package stopwords to /root/nltk_data...\n",
            "[nltk_data]   Package stopwords is already up-to-date!\n"
          ],
          "name": "stdout"
        }
      ]
    },
    {
      "cell_type": "code",
      "metadata": {
        "id": "g3os-mhYmEH9",
        "colab_type": "code",
        "outputId": "bfee4ee0-2c33-4a0d-d279-639d30289ea6",
        "colab": {
          "base_uri": "https://localhost:8080/",
          "height": 345
        }
      },
      "source": [
        "vocab_reduced = Counter()\n",
        "for word, count in vocab.items():\n",
        "  if not word in stop:\n",
        "    vocab_reduced[word] = count\n",
        "\n",
        "vocab_reduced.most_common(20)"
      ],
      "execution_count": 25,
      "outputs": [
        {
          "output_type": "execute_result",
          "data": {
            "text/plain": [
              "[('I', 59255),\n",
              " ('/><br', 45851),\n",
              " ('The', 30399),\n",
              " ('movie', 27342),\n",
              " ('film', 24768),\n",
              " ('one', 18704),\n",
              " ('like', 16278),\n",
              " ('This', 11074),\n",
              " ('would', 10720),\n",
              " ('good', 10243),\n",
              " ('It', 9853),\n",
              " ('really', 9773),\n",
              " ('even', 9530),\n",
              " ('see', 9077),\n",
              " ('-', 8181),\n",
              " ('get', 7857),\n",
              " ('story', 7652),\n",
              " ('much', 7634),\n",
              " ('time', 7028),\n",
              " ('make', 6719)]"
            ]
          },
          "metadata": {
            "tags": []
          },
          "execution_count": 25
        }
      ]
    },
    {
      "cell_type": "code",
      "metadata": {
        "id": "Id1OyocCmPg9",
        "colab_type": "code",
        "colab": {}
      },
      "source": [
        "import re\n",
        "\n",
        "def preprocessor(text):\n",
        "    \"\"\" Return a cleaned version of text\n",
        "    \"\"\"\n",
        "    # Remove HTML markup\n",
        "    text = re.sub('<[^>]*>', '', text)\n",
        "    # Save emoticons for later appending\n",
        "    emoticons = re.findall('(?::|;|=)(?:-)?(?:\\)|\\(|D|P)', text)\n",
        "    # Remove any non-word character and append the emoticons,\n",
        "    # removing the nose character for standarization. Convert to lower case\n",
        "    text = (re.sub('[\\W]+', ' ', text.lower()) + ' ' + ' '.join(emoticons).replace('-', ''))\n",
        "    \n",
        "    return text\n",
        "\n",
        "# Create some random texts for testing the function preprocessor()\n",
        "df['review_fix'] = df['review'].apply(preprocessor)"
      ],
      "execution_count": 0,
      "outputs": []
    },
    {
      "cell_type": "code",
      "metadata": {
        "id": "eH3LdjREmpbc",
        "colab_type": "code",
        "outputId": "92ebe5f1-fc5e-477c-9a66-eee2b826033d",
        "colab": {
          "base_uri": "https://localhost:8080/",
          "height": 52
        }
      },
      "source": [
        "df['review_fix'][0]"
      ],
      "execution_count": 28,
      "outputs": [
        {
          "output_type": "execute_result",
          "data": {
            "text/plain": [
              "'with all this stuff going down at the moment with mj i ve started listening to his music watching the odd documentary here and there watched the wiz and watched moonwalker again maybe i just want to get a certain insight into this guy who i thought was really cool in the eighties just to maybe make up my mind whether he is guilty or innocent moonwalker is part biography part feature film which i remember going to see at the cinema when it was originally released some of it has subtle messages about mj s feeling towards the press and also the obvious message of drugs are bad m kay visually impressive but of course this is all about michael jackson so unless you remotely like mj in anyway then you are going to hate this and find it boring some may call mj an egotist for consenting to the making of this movie but mj and most of his fans would say that he made it for the fans which if true is really nice of him the actual feature film bit when it finally starts is only on for 20 minutes or so excluding the smooth criminal sequence and joe pesci is convincing as a psychopathic all powerful drug lord why he wants mj dead so bad is beyond me because mj overheard his plans nah joe pesci s character ranted that he wanted people to know it is he who is supplying drugs etc so i dunno maybe he just hates mj s music lots of cool things in this like mj turning into a car and a robot and the whole speed demon sequence also the director must have had the patience of a saint when it came to filming the kiddy bad sequence as usually directors hate working with one kid let alone a whole bunch of them performing a complex dance scene bottom line this movie is for people who like mj on one level or another which i think is most people if not then stay away it does try and give off a wholesome message and ironically mj s bestest buddy in this movie is a girl michael jackson is truly one of the most talented people ever to grace this planet but is he guilty well with all the attention i ve gave this subject hmmm well i don t know because people can be different behind closed doors i know this for a fact he is either an extremely nice but stupid guy or one of the most sickest liars i hope he is not the latter  '"
            ]
          },
          "metadata": {
            "tags": []
          },
          "execution_count": 28
        }
      ]
    },
    {
      "cell_type": "code",
      "metadata": {
        "id": "MFqGrwYWnHrB",
        "colab_type": "code",
        "colab": {}
      },
      "source": [
        "from sklearn.feature_extraction.text import TfidfVectorizer\n",
        "from nltk.stem import PorterStemmer\n",
        "\n",
        "porter = PorterStemmer()\n",
        "\n",
        "stop = stopwords.words('english')\n",
        "\n",
        "def tokenizer_porter(text):\n",
        "    return [porter.stem(word) for word in text.split()]\n",
        "\n",
        "def preprocessor(text):\n",
        "    \"\"\" Return a cleaned version of text\n",
        "    \"\"\"\n",
        "    # Remove HTML markup\n",
        "    text = re.sub('<[^>]*>', '', text)\n",
        "    # Save emoticons for later appending\n",
        "    emoticons = re.findall('(?::|;|=)(?:-)?(?:\\)|\\(|D|P)', text)\n",
        "    # Remove any non-word character and append the emoticons,\n",
        "    # removing the nose character for standarization. Convert to lower case\n",
        "    text = (re.sub('[\\W]+', ' ', text.lower()) + ' ' + ' '.join(emoticons).replace('-', ''))\n",
        "    \n",
        "    return text\n",
        "\n",
        "tfidf = TfidfVectorizer(stop_words=stop,\n",
        "                        tokenizer=tokenizer_porter,\n",
        "                        preprocessor=preprocessor)\n"
      ],
      "execution_count": 0,
      "outputs": []
    },
    {
      "cell_type": "code",
      "metadata": {
        "id": "ZtR972vsnJzL",
        "colab_type": "code",
        "outputId": "97748f54-966b-441b-a726-7dcbcc6e7698",
        "colab": {
          "base_uri": "https://localhost:8080/",
          "height": 280
        }
      },
      "source": [
        "tfidf"
      ],
      "execution_count": 30,
      "outputs": [
        {
          "output_type": "execute_result",
          "data": {
            "text/plain": [
              "TfidfVectorizer(analyzer='word', binary=False, decode_error='strict',\n",
              "                dtype=<class 'numpy.float64'>, encoding='utf-8',\n",
              "                input='content', lowercase=True, max_df=1.0, max_features=None,\n",
              "                min_df=1, ngram_range=(1, 1), norm='l2',\n",
              "                preprocessor=<function preprocessor at 0x7f91acdb3950>,\n",
              "                smooth_idf=True,\n",
              "                stop_words=['i', 'me', 'my', 'myself', 'we', 'our', 'ours',\n",
              "                            'ourselves', 'you', \"you're\", \"you've\", \"you'll\",\n",
              "                            \"you'd\", 'your', 'yours', 'yourself', 'yourselves',\n",
              "                            'he', 'him', 'his', 'himself', 'she', \"she's\",\n",
              "                            'her', 'hers', 'herself', 'it', \"it's\", 'its',\n",
              "                            'itself', ...],\n",
              "                strip_accents=None, sublinear_tf=False,\n",
              "                token_pattern='(?u)\\\\b\\\\w\\\\w+\\\\b',\n",
              "                tokenizer=<function tokenizer_porter at 0x7f91acdb3840>,\n",
              "                use_idf=True, vocabulary=None)"
            ]
          },
          "metadata": {
            "tags": []
          },
          "execution_count": 30
        }
      ]
    },
    {
      "cell_type": "code",
      "metadata": {
        "id": "PbEfRL9qWweN",
        "colab_type": "code",
        "colab": {}
      },
      "source": [
        "# Text stemming\n",
        "from nltk.stem import PorterStemmer\n",
        "\n",
        "porter = PorterStemmer()\n",
        "\n",
        "def tokenizer_porter (text):\n",
        "  token = []\n",
        "  for word in text.split():\n",
        "    token.append (porter.stem(word))\n",
        "\n",
        "  return token\n",
        "\n",
        "def get_stemmed_text(corpus):\n",
        "    from nltk.stem.porter import PorterStemmer\n",
        "    stemmer = PorterStemmer()\n",
        "    return [' '.join([stemmer.stem(word) for word in review.split()]) for review in corpus]\n",
        "\n",
        "stemmed_reviews = get_stemmed_text(data)"
      ],
      "execution_count": 0,
      "outputs": []
    },
    {
      "cell_type": "code",
      "metadata": {
        "id": "JUAWzassXYlM",
        "colab_type": "code",
        "colab": {
          "base_uri": "https://localhost:8080/",
          "height": 49
        },
        "outputId": "aefcd6d4-431b-4eff-bfb1-039fc3e75be7"
      },
      "source": [
        "# Lemmatization works -> identifying the part-of-speech of a given word and then applying more complex rules to transform the word into its true root.\n",
        "nltk.download('wordnet')\n",
        "\n",
        "def get_lemmatized_text(corpus):\n",
        "    from nltk.stem import WordNetLemmatizer\n",
        "    lemmatizer = WordNetLemmatizer()\n",
        "    return [' '.join([lemmatizer.lemmatize(word) for word in review.split()]) for review in corpus]\n",
        "\n",
        "lemmatized_reviews = get_lemmatized_text(data)"
      ],
      "execution_count": 34,
      "outputs": [
        {
          "output_type": "stream",
          "text": [
            "[nltk_data] Downloading package wordnet to /root/nltk_data...\n",
            "[nltk_data]   Unzipping corpora/wordnet.zip.\n"
          ],
          "name": "stdout"
        }
      ]
    },
    {
      "cell_type": "code",
      "metadata": {
        "id": "RRC05eMwYUjj",
        "colab_type": "code",
        "colab": {
          "base_uri": "https://localhost:8080/",
          "height": 52
        },
        "outputId": "4390dced-0376-4232-e996-3a1a5f5fd28e"
      },
      "source": [
        "from nltk.tokenize.toktok import ToktokTokenizer\n",
        "from nltk.stem import LancasterStemmer,WordNetLemmatizer\n",
        "#Text normalization\n",
        "#Tokenization of text\n",
        "tokenizer=ToktokTokenizer()\n",
        "#Setting English stopwords\n",
        "stopword_list=nltk.corpus.stopwords.words('english')\n",
        "#set stopwords to english\n",
        "stop=set(stopwords.words('english'))\n",
        "print(stop)\n",
        "\n",
        "#removing the stopwords\n",
        "def remove_stopwords(text, is_lower_case=False):\n",
        "    tokens = tokenizer.tokenize(text)\n",
        "    tokens = [token.strip() for token in tokens]\n",
        "    if is_lower_case:\n",
        "        filtered_tokens = [token for token in tokens if token not in stopword_list]\n",
        "    else:\n",
        "        filtered_tokens = [token for token in tokens if token.lower() not in stopword_list]\n",
        "    filtered_text = ' '.join(filtered_tokens)    \n",
        "    return filtered_text\n",
        "#Apply function on review column\n",
        "data['review']=data['review'].apply(remove_stopwords)"
      ],
      "execution_count": 38,
      "outputs": [
        {
          "output_type": "stream",
          "text": [
            "{'each', \"it's\", 'below', 'mustn', 'at', 'not', 'about', 'hadn', 'their', 'had', 'theirs', 'all', 't', 'than', \"hasn't\", 'so', 'after', \"that'll\", 'itself', 'mightn', 'd', 'own', \"don't\", 'aren', 'these', 'hers', 've', \"wouldn't\", 'himself', 'before', \"you're\", 'yourself', 'it', 'isn', \"isn't\", 'yours', \"doesn't\", 'again', \"hadn't\", 'against', \"should've\", 'but', 'such', 'ain', 'who', 'will', 'if', 'i', 'of', \"you've\", \"didn't\", 'up', 'just', 'with', 'and', 'didn', 'myself', 'll', 'ours', 'them', 'her', 're', 'o', 'on', 'they', 'ourselves', 'him', 'above', 'haven', 'having', 'only', \"shan't\", \"mightn't\", 'during', 'does', 'from', 'why', 'those', 'the', \"mustn't\", 'themselves', 'very', 'we', 'here', \"weren't\", \"you'd\", 'when', 'once', 'be', \"wasn't\", \"couldn't\", \"she's\", \"shouldn't\", 'whom', 'being', 'were', 'under', 'because', 'while', 's', 'doing', 'that', 'm', 'then', 'a', 'have', \"you'll\", 'to', 'through', 'your', 'hasn', 'did', \"haven't\", \"needn't\", 'off', 'his', 'been', 'down', 'any', 'don', 'now', 'is', 'can', 'are', \"aren't\", 'won', 'was', 'this', 'into', 'my', 'wasn', 'he', \"won't\", 'some', 'herself', 'its', 'for', 'do', 'no', 'which', 'shan', 'where', 'nor', 'our', 'has', 'by', 'there', 'she', 'am', 'an', 'too', 'out', 'more', 'shouldn', 'or', 'how', 'in', 'over', 'few', 'most', 'yourselves', 'what', 'between', 'me', 'both', 'couldn', 'until', 'other', 'same', 'further', 'you', 'needn', 'wouldn', 'y', 'weren', 'should', 'ma', 'as', 'doesn'}\n"
          ],
          "name": "stdout"
        }
      ]
    },
    {
      "cell_type": "code",
      "metadata": {
        "id": "R3nvEb3MYmne",
        "colab_type": "code",
        "colab": {
          "base_uri": "https://localhost:8080/",
          "height": 196
        },
        "outputId": "4269d1d9-5eac-403a-9f10-c42d61384e95"
      },
      "source": [
        "from wordcloud import WordCloud,STOPWORDS\n",
        "from nltk.stem import WordNetLemmatizer\n",
        "from nltk.tokenize import word_tokenize,sent_tokenize\n",
        "\n",
        "text = \" \".join(review for review in data.review)\n",
        "\n",
        "wordcloud = WordCloud(max_font_size=50, max_words=100, background_color=\"white\", stopwords=stopwords.words(\"english\")).generate(text)\n",
        "plt.figure()\n",
        "plt.imshow(wordcloud, interpolation=\"bilinear\")\n",
        "plt.axis(\"off\")\n",
        "plt.show();"
      ],
      "execution_count": 39,
      "outputs": [
        {
          "output_type": "display_data",
          "data": {
            "image/png": "[encoded data removed]",
            "text/plain": [
              "<Figure size 432x288 with 1 Axes>"
            ]
          },
          "metadata": {
            "tags": [],
            "needs_background": "light"
          }
        }
      ]
    },
    {
      "cell_type": "code",
      "metadata": {
        "id": "B6w-DKPLhCm5",
        "colab_type": "code",
        "colab": {
          "base_uri": "https://localhost:8080/",
          "height": 352
        },
        "outputId": "d0fcd63e-d7c7-45bf-d11c-ae7f27a07ce2"
      },
      "source": [
        "df.sample(10)"
      ],
      "execution_count": 91,
      "outputs": [
        {
          "output_type": "execute_result",
          "data": {
            "text/html": [
              "<div>\n",
              "<style scoped>\n",
              "    .dataframe tbody tr th:only-of-type {\n",
              "        vertical-align: middle;\n",
              "    }\n",
              "\n",
              "    .dataframe tbody tr th {\n",
              "        vertical-align: top;\n",
              "    }\n",
              "\n",
              "    .dataframe thead th {\n",
              "        text-align: right;\n",
              "    }\n",
              "</style>\n",
              "<table border=\"1\" class=\"dataframe\">\n",
              "  <thead>\n",
              "    <tr style=\"text-align: right;\">\n",
              "      <th></th>\n",
              "      <th>id</th>\n",
              "      <th>review</th>\n",
              "      <th>sentiment</th>\n",
              "      <th>review_fix</th>\n",
              "    </tr>\n",
              "  </thead>\n",
              "  <tbody>\n",
              "    <tr>\n",
              "      <th>7472</th>\n",
              "      <td>3748_10</td>\n",
              "      <td>I've watched it plenty of times and I'm planni...</td>\n",
              "      <td>1</td>\n",
              "      <td>i ve watched it plenty of times and i m planni...</td>\n",
              "    </tr>\n",
              "    <tr>\n",
              "      <th>3303</th>\n",
              "      <td>4847_9</td>\n",
              "      <td>This film is one of those nostalgia things wit...</td>\n",
              "      <td>1</td>\n",
              "      <td>this film is one of those nostalgia things wit...</td>\n",
              "    </tr>\n",
              "    <tr>\n",
              "      <th>21406</th>\n",
              "      <td>10470_1</td>\n",
              "      <td>What else is left to say?&lt;br /&gt;&lt;br /&gt;I've read...</td>\n",
              "      <td>0</td>\n",
              "      <td>what else is left to say i ve read all the rev...</td>\n",
              "    </tr>\n",
              "    <tr>\n",
              "      <th>17161</th>\n",
              "      <td>5906_8</td>\n",
              "      <td>Doghi is a wonderful movie and Renuka Daftarda...</td>\n",
              "      <td>1</td>\n",
              "      <td>doghi is a wonderful movie and renuka daftarda...</td>\n",
              "    </tr>\n",
              "    <tr>\n",
              "      <th>17368</th>\n",
              "      <td>3328_7</td>\n",
              "      <td>It's rare, nowadays, to find a romantic comedy...</td>\n",
              "      <td>1</td>\n",
              "      <td>it s rare nowadays to find a romantic comedy t...</td>\n",
              "    </tr>\n",
              "    <tr>\n",
              "      <th>9310</th>\n",
              "      <td>9606_10</td>\n",
              "      <td>This was the best movie I've ever seen about B...</td>\n",
              "      <td>1</td>\n",
              "      <td>this was the best movie i ve ever seen about b...</td>\n",
              "    </tr>\n",
              "    <tr>\n",
              "      <th>5381</th>\n",
              "      <td>448_10</td>\n",
              "      <td>I think this movie is absolutely beautiful. An...</td>\n",
              "      <td>1</td>\n",
              "      <td>i think this movie is absolutely beautiful and...</td>\n",
              "    </tr>\n",
              "    <tr>\n",
              "      <th>5986</th>\n",
              "      <td>11249_7</td>\n",
              "      <td>I have just watched the whole 6 episodes on DV...</td>\n",
              "      <td>1</td>\n",
              "      <td>i have just watched the whole 6 episodes on dv...</td>\n",
              "    </tr>\n",
              "    <tr>\n",
              "      <th>8385</th>\n",
              "      <td>2236_1</td>\n",
              "      <td>I don't really know where to start. The acting...</td>\n",
              "      <td>0</td>\n",
              "      <td>i don t really know where to start the acting ...</td>\n",
              "    </tr>\n",
              "    <tr>\n",
              "      <th>21322</th>\n",
              "      <td>6501_1</td>\n",
              "      <td>This movie is once again, one of those movies ...</td>\n",
              "      <td>0</td>\n",
              "      <td>this movie is once again one of those movies t...</td>\n",
              "    </tr>\n",
              "  </tbody>\n",
              "</table>\n",
              "</div>"
            ],
            "text/plain": [
              "            id  ...                                         review_fix\n",
              "7472   3748_10  ...  i ve watched it plenty of times and i m planni...\n",
              "3303    4847_9  ...  this film is one of those nostalgia things wit...\n",
              "21406  10470_1  ...  what else is left to say i ve read all the rev...\n",
              "17161   5906_8  ...  doghi is a wonderful movie and renuka daftarda...\n",
              "17368   3328_7  ...  it s rare nowadays to find a romantic comedy t...\n",
              "9310   9606_10  ...  this was the best movie i ve ever seen about b...\n",
              "5381    448_10  ...  i think this movie is absolutely beautiful and...\n",
              "5986   11249_7  ...  i have just watched the whole 6 episodes on dv...\n",
              "8385    2236_1  ...  i don t really know where to start the acting ...\n",
              "21322   6501_1  ...  this movie is once again one of those movies t...\n",
              "\n",
              "[10 rows x 4 columns]"
            ]
          },
          "metadata": {
            "tags": []
          },
          "execution_count": 91
        }
      ]
    },
    {
      "cell_type": "markdown",
      "metadata": {
        "id": "9P4FNhbSYJug",
        "colab_type": "text"
      },
      "source": [
        "# Classification"
      ]
    },
    {
      "cell_type": "code",
      "metadata": {
        "id": "_OAqwC1-ncGI",
        "colab_type": "code",
        "colab": {}
      },
      "source": [
        "from sklearn.model_selection import train_test_split\n",
        "\n",
        "X = df['review_fix']\n",
        "\n",
        "y = df['sentiment']\n",
        "\n",
        "X_train, X_test, y_train, y_test = train_test_split(X, y , test_size = 0.2)"
      ],
      "execution_count": 0,
      "outputs": []
    },
    {
      "cell_type": "code",
      "metadata": {
        "id": "Dhw-9vPJntI1",
        "colab_type": "code",
        "outputId": "6f6e9638-4bdf-4275-b8de-0b1fac7318b2",
        "colab": {
          "base_uri": "https://localhost:8080/",
          "height": 448
        }
      },
      "source": [
        "from sklearn.pipeline import Pipeline\n",
        "from sklearn.linear_model import LogisticRegression\n",
        "\n",
        "# A pipeline is what chains several steps together, once the initial exploration is done. \n",
        "# For example, some codes are meant to transform features — normalise numericals, or turn text into vectors, \n",
        "# or fill up missing data, they are transformers; other codes are meant to predict variables by fitting an algorithm,\n",
        "# they are estimators. Pipeline chains all these together which can then be applied to training data\n",
        "clf = Pipeline([('vect', tfidf),\n",
        "                ('clf', LogisticRegression(random_state=0))])\n",
        "\n",
        "clf.fit(X_train, y_train)"
      ],
      "execution_count": 41,
      "outputs": [
        {
          "output_type": "stream",
          "text": [
            "/usr/local/lib/python3.6/dist-packages/sklearn/feature_extraction/text.py:385: UserWarning: Your stop_words may be inconsistent with your preprocessing. Tokenizing the stop words generated tokens ['abov', 'ani', 'becaus', 'befor', 'doe', 'dure', 'ha', 'hi', 'onc', 'onli', 'ourselv', 'themselv', 'thi', 'veri', 'wa', 'whi', 'yourselv'] not in stop_words.\n",
            "  'stop_words.' % sorted(inconsistent))\n"
          ],
          "name": "stderr"
        },
        {
          "output_type": "execute_result",
          "data": {
            "text/plain": [
              "Pipeline(memory=None,\n",
              "         steps=[('vect',\n",
              "                 TfidfVectorizer(analyzer='word', binary=False,\n",
              "                                 decode_error='strict',\n",
              "                                 dtype=<class 'numpy.float64'>,\n",
              "                                 encoding='utf-8', input='content',\n",
              "                                 lowercase=True, max_df=1.0, max_features=None,\n",
              "                                 min_df=1, ngram_range=(1, 1), norm='l2',\n",
              "                                 preprocessor=<function preprocessor at 0x7f91acdb3950>,\n",
              "                                 smooth_idf=True,\n",
              "                                 stop_words=['i', 'me', 'my', 'myself', '...\n",
              "                                 token_pattern='(?u)\\\\b\\\\w\\\\w+\\\\b',\n",
              "                                 tokenizer=<function tokenizer_porter at 0x7f91acdb3840>,\n",
              "                                 use_idf=True, vocabulary=None)),\n",
              "                ('clf',\n",
              "                 LogisticRegression(C=1.0, class_weight=None, dual=False,\n",
              "                                    fit_intercept=True, intercept_scaling=1,\n",
              "                                    l1_ratio=None, max_iter=100,\n",
              "                                    multi_class='auto', n_jobs=None,\n",
              "                                    penalty='l2', random_state=0,\n",
              "                                    solver='lbfgs', tol=0.0001, verbose=0,\n",
              "                                    warm_start=False))],\n",
              "         verbose=False)"
            ]
          },
          "metadata": {
            "tags": []
          },
          "execution_count": 41
        }
      ]
    },
    {
      "cell_type": "code",
      "metadata": {
        "id": "g0Rgv0iyawAc",
        "colab_type": "code",
        "colab": {
          "base_uri": "https://localhost:8080/",
          "height": 247
        },
        "outputId": "d6a472f4-e0ae-4e44-f273-e7badefd9e36"
      },
      "source": [
        "from sklearn.metrics import accuracy_score, confusion_matrix, classification_report\n",
        "\n",
        "predictions = clf.predict (X_test)\n",
        "print('The accuracy score is:',accuracy_score(y_test,predictions))\n",
        "print('The confusion matrix is:','\\n',confusion_matrix(y_test,predictions))\n",
        "print('The classification report is:','\\n',classification_report(y_test,predictions))"
      ],
      "execution_count": 44,
      "outputs": [
        {
          "output_type": "stream",
          "text": [
            "The accuracy score is: 0.886\n",
            "The confusion matrix is: \n",
            " [[1910  290]\n",
            " [ 223 2077]]\n",
            "The classification report is: \n",
            "               precision    recall  f1-score   support\n",
            "\n",
            "           0       0.90      0.87      0.88      2200\n",
            "           1       0.88      0.90      0.89      2300\n",
            "\n",
            "    accuracy                           0.89      4500\n",
            "   macro avg       0.89      0.89      0.89      4500\n",
            "weighted avg       0.89      0.89      0.89      4500\n",
            "\n"
          ],
          "name": "stdout"
        }
      ]
    },
    {
      "cell_type": "markdown",
      "metadata": {
        "id": "QIrOq-aCcTev",
        "colab_type": "text"
      },
      "source": [
        "**Evaluation Test**"
      ]
    },
    {
      "cell_type": "code",
      "metadata": {
        "id": "E656LEc5e9Eq",
        "colab_type": "code",
        "colab": {}
      },
      "source": [
        "data = pd.read_csv('/content/gdrive/My Drive/FTMLE - Tonga/Data/movie_review_evaluation.csv', encoding='utf-8', sep='\\t')"
      ],
      "execution_count": 0,
      "outputs": []
    },
    {
      "cell_type": "code",
      "metadata": {
        "id": "GztyPjFie_mp",
        "colab_type": "code",
        "colab": {
          "base_uri": "https://localhost:8080/",
          "height": 201
        },
        "outputId": "2b0bfc5f-5578-4686-9c98-5318d64dc8b1"
      },
      "source": [
        "data.sample(5)"
      ],
      "execution_count": 74,
      "outputs": [
        {
          "output_type": "execute_result",
          "data": {
            "text/html": [
              "<div>\n",
              "<style scoped>\n",
              "    .dataframe tbody tr th:only-of-type {\n",
              "        vertical-align: middle;\n",
              "    }\n",
              "\n",
              "    .dataframe tbody tr th {\n",
              "        vertical-align: top;\n",
              "    }\n",
              "\n",
              "    .dataframe thead th {\n",
              "        text-align: right;\n",
              "    }\n",
              "</style>\n",
              "<table border=\"1\" class=\"dataframe\">\n",
              "  <thead>\n",
              "    <tr style=\"text-align: right;\">\n",
              "      <th></th>\n",
              "      <th>id</th>\n",
              "      <th>review</th>\n",
              "    </tr>\n",
              "  </thead>\n",
              "  <tbody>\n",
              "    <tr>\n",
              "      <th>1895</th>\n",
              "      <td>308_1</td>\n",
              "      <td>Mere thoughts of \\Going Overboard\\\" (aka \\\"Bab...</td>\n",
              "    </tr>\n",
              "    <tr>\n",
              "      <th>2388</th>\n",
              "      <td>7442_7</td>\n",
              "      <td>I rented the film (I don't think it got a thea...</td>\n",
              "    </tr>\n",
              "    <tr>\n",
              "      <th>775</th>\n",
              "      <td>5595_7</td>\n",
              "      <td>Polanski returns to the themes of solitude and...</td>\n",
              "    </tr>\n",
              "    <tr>\n",
              "      <th>617</th>\n",
              "      <td>7756_2</td>\n",
              "      <td>I remember watching ATTACK when it first came ...</td>\n",
              "    </tr>\n",
              "    <tr>\n",
              "      <th>158</th>\n",
              "      <td>7525_2</td>\n",
              "      <td>In this 'sequel' Bruce is still called Billy L...</td>\n",
              "    </tr>\n",
              "  </tbody>\n",
              "</table>\n",
              "</div>"
            ],
            "text/plain": [
              "          id                                             review\n",
              "1895   308_1  Mere thoughts of \\Going Overboard\\\" (aka \\\"Bab...\n",
              "2388  7442_7  I rented the film (I don't think it got a thea...\n",
              "775   5595_7  Polanski returns to the themes of solitude and...\n",
              "617   7756_2  I remember watching ATTACK when it first came ...\n",
              "158   7525_2  In this 'sequel' Bruce is still called Billy L..."
            ]
          },
          "metadata": {
            "tags": []
          },
          "execution_count": 74
        }
      ]
    },
    {
      "cell_type": "code",
      "metadata": {
        "id": "F2FTYgSkfIB5",
        "colab_type": "code",
        "colab": {
          "base_uri": "https://localhost:8080/",
          "height": 164
        },
        "outputId": "031f0ce1-62da-46e7-da5c-9f2986c39654"
      },
      "source": [
        "data.info()"
      ],
      "execution_count": 75,
      "outputs": [
        {
          "output_type": "stream",
          "text": [
            "<class 'pandas.core.frame.DataFrame'>\n",
            "RangeIndex: 2500 entries, 0 to 2499\n",
            "Data columns (total 2 columns):\n",
            " #   Column  Non-Null Count  Dtype \n",
            "---  ------  --------------  ----- \n",
            " 0   id      2500 non-null   object\n",
            " 1   review  2500 non-null   object\n",
            "dtypes: object(2)\n",
            "memory usage: 39.2+ KB\n"
          ],
          "name": "stdout"
        }
      ]
    },
    {
      "cell_type": "code",
      "metadata": {
        "id": "n7QNcCUeb8rj",
        "colab_type": "code",
        "colab": {
          "base_uri": "https://localhost:8080/",
          "height": 32
        },
        "outputId": "1b96830f-ce33-4a04-8cf7-b4a20d6ebb48"
      },
      "source": [
        "X_evaluate = data.review\n",
        "X_evaluate.shape"
      ],
      "execution_count": 76,
      "outputs": [
        {
          "output_type": "execute_result",
          "data": {
            "text/plain": [
              "(2500,)"
            ]
          },
          "metadata": {
            "tags": []
          },
          "execution_count": 76
        }
      ]
    },
    {
      "cell_type": "code",
      "metadata": {
        "id": "q_YcK3UrcCTq",
        "colab_type": "code",
        "colab": {
          "base_uri": "https://localhost:8080/",
          "height": 32
        },
        "outputId": "9483cb30-beac-4a1e-9f23-4e3c43ef74a4"
      },
      "source": [
        "evaluate_pred = clf.predict(X_evaluate)\n",
        "evaluate_pred.shape, evaluate_pred"
      ],
      "execution_count": 77,
      "outputs": [
        {
          "output_type": "execute_result",
          "data": {
            "text/plain": [
              "((2500,), array([0, 0, 1, ..., 1, 0, 1]))"
            ]
          },
          "metadata": {
            "tags": []
          },
          "execution_count": 77
        }
      ]
    },
    {
      "cell_type": "code",
      "metadata": {
        "id": "vfCddnkxcGyx",
        "colab_type": "code",
        "colab": {}
      },
      "source": [
        "df_evaluate_pred = pd.DataFrame(evaluate_pred)"
      ],
      "execution_count": 0,
      "outputs": []
    },
    {
      "cell_type": "code",
      "metadata": {
        "id": "tOolj9gdcM08",
        "colab_type": "code",
        "colab": {
          "base_uri": "https://localhost:8080/",
          "height": 411
        },
        "outputId": "a0feae83-e295-4c71-927d-50a64417de96"
      },
      "source": [
        "df_evaluate_pred.columns = ['prediction']\n",
        "df_evaluate_pred"
      ],
      "execution_count": 79,
      "outputs": [
        {
          "output_type": "execute_result",
          "data": {
            "text/html": [
              "<div>\n",
              "<style scoped>\n",
              "    .dataframe tbody tr th:only-of-type {\n",
              "        vertical-align: middle;\n",
              "    }\n",
              "\n",
              "    .dataframe tbody tr th {\n",
              "        vertical-align: top;\n",
              "    }\n",
              "\n",
              "    .dataframe thead th {\n",
              "        text-align: right;\n",
              "    }\n",
              "</style>\n",
              "<table border=\"1\" class=\"dataframe\">\n",
              "  <thead>\n",
              "    <tr style=\"text-align: right;\">\n",
              "      <th></th>\n",
              "      <th>prediction</th>\n",
              "    </tr>\n",
              "  </thead>\n",
              "  <tbody>\n",
              "    <tr>\n",
              "      <th>0</th>\n",
              "      <td>0</td>\n",
              "    </tr>\n",
              "    <tr>\n",
              "      <th>1</th>\n",
              "      <td>0</td>\n",
              "    </tr>\n",
              "    <tr>\n",
              "      <th>2</th>\n",
              "      <td>1</td>\n",
              "    </tr>\n",
              "    <tr>\n",
              "      <th>3</th>\n",
              "      <td>0</td>\n",
              "    </tr>\n",
              "    <tr>\n",
              "      <th>4</th>\n",
              "      <td>0</td>\n",
              "    </tr>\n",
              "    <tr>\n",
              "      <th>...</th>\n",
              "      <td>...</td>\n",
              "    </tr>\n",
              "    <tr>\n",
              "      <th>2495</th>\n",
              "      <td>1</td>\n",
              "    </tr>\n",
              "    <tr>\n",
              "      <th>2496</th>\n",
              "      <td>1</td>\n",
              "    </tr>\n",
              "    <tr>\n",
              "      <th>2497</th>\n",
              "      <td>1</td>\n",
              "    </tr>\n",
              "    <tr>\n",
              "      <th>2498</th>\n",
              "      <td>0</td>\n",
              "    </tr>\n",
              "    <tr>\n",
              "      <th>2499</th>\n",
              "      <td>1</td>\n",
              "    </tr>\n",
              "  </tbody>\n",
              "</table>\n",
              "<p>2500 rows × 1 columns</p>\n",
              "</div>"
            ],
            "text/plain": [
              "      prediction\n",
              "0              0\n",
              "1              0\n",
              "2              1\n",
              "3              0\n",
              "4              0\n",
              "...          ...\n",
              "2495           1\n",
              "2496           1\n",
              "2497           1\n",
              "2498           0\n",
              "2499           1\n",
              "\n",
              "[2500 rows x 1 columns]"
            ]
          },
          "metadata": {
            "tags": []
          },
          "execution_count": 79
        }
      ]
    },
    {
      "cell_type": "code",
      "metadata": {
        "id": "AE6jvpBsvu_8",
        "colab_type": "code",
        "outputId": "cc336cdf-ba9e-4b48-d691-7c4e1806f3c2",
        "colab": {
          "base_uri": "https://localhost:8080/",
          "height": 32
        }
      },
      "source": [
        "predictions"
      ],
      "execution_count": 80,
      "outputs": [
        {
          "output_type": "execute_result",
          "data": {
            "text/plain": [
              "array([0, 1, 1, ..., 0, 1, 0])"
            ]
          },
          "metadata": {
            "tags": []
          },
          "execution_count": 80
        }
      ]
    },
    {
      "cell_type": "code",
      "metadata": {
        "id": "RLg0XmDJwGye",
        "colab_type": "code",
        "outputId": "388e2a4e-ba7e-4f2a-ad97-e974954dc4af",
        "colab": {
          "base_uri": "https://localhost:8080/",
          "height": 32
        }
      },
      "source": [
        "predictions_1 = clf.predict(X_evaluate)\n",
        "accuracy_score(y_test, predictions)"
      ],
      "execution_count": 83,
      "outputs": [
        {
          "output_type": "execute_result",
          "data": {
            "text/plain": [
              "0.886"
            ]
          },
          "metadata": {
            "tags": []
          },
          "execution_count": 83
        }
      ]
    },
    {
      "cell_type": "code",
      "metadata": {
        "id": "Pzs93UZAwU0O",
        "colab_type": "code",
        "colab": {}
      },
      "source": [
        "predictions_values = predictions_1.tolist()"
      ],
      "execution_count": 0,
      "outputs": []
    },
    {
      "cell_type": "code",
      "metadata": {
        "id": "Y8Fb0QuzweX6",
        "colab_type": "code",
        "colab": {}
      },
      "source": [
        "data['predictions'] = predictions_values"
      ],
      "execution_count": 0,
      "outputs": []
    },
    {
      "cell_type": "code",
      "metadata": {
        "id": "e1je5xNLAgDM",
        "colab_type": "code",
        "outputId": "45cb3592-6d7b-4bdf-ede5-8d3cacf25eee",
        "colab": {
          "base_uri": "https://localhost:8080/",
          "height": 411
        }
      },
      "source": [
        "data"
      ],
      "execution_count": 86,
      "outputs": [
        {
          "output_type": "execute_result",
          "data": {
            "text/html": [
              "<div>\n",
              "<style scoped>\n",
              "    .dataframe tbody tr th:only-of-type {\n",
              "        vertical-align: middle;\n",
              "    }\n",
              "\n",
              "    .dataframe tbody tr th {\n",
              "        vertical-align: top;\n",
              "    }\n",
              "\n",
              "    .dataframe thead th {\n",
              "        text-align: right;\n",
              "    }\n",
              "</style>\n",
              "<table border=\"1\" class=\"dataframe\">\n",
              "  <thead>\n",
              "    <tr style=\"text-align: right;\">\n",
              "      <th></th>\n",
              "      <th>id</th>\n",
              "      <th>review</th>\n",
              "      <th>predictions</th>\n",
              "    </tr>\n",
              "  </thead>\n",
              "  <tbody>\n",
              "    <tr>\n",
              "      <th>0</th>\n",
              "      <td>10633_1</td>\n",
              "      <td>I watched this video at a friend's house. I'm ...</td>\n",
              "      <td>0</td>\n",
              "    </tr>\n",
              "    <tr>\n",
              "      <th>1</th>\n",
              "      <td>4489_1</td>\n",
              "      <td>`The Matrix' was an exciting summer blockbuste...</td>\n",
              "      <td>0</td>\n",
              "    </tr>\n",
              "    <tr>\n",
              "      <th>2</th>\n",
              "      <td>3304_10</td>\n",
              "      <td>This movie is one among the very few Indian mo...</td>\n",
              "      <td>1</td>\n",
              "    </tr>\n",
              "    <tr>\n",
              "      <th>3</th>\n",
              "      <td>3350_3</td>\n",
              "      <td>The script for this movie was probably found i...</td>\n",
              "      <td>0</td>\n",
              "    </tr>\n",
              "    <tr>\n",
              "      <th>4</th>\n",
              "      <td>1119_1</td>\n",
              "      <td>Even if this film was allegedly a joke in resp...</td>\n",
              "      <td>0</td>\n",
              "    </tr>\n",
              "    <tr>\n",
              "      <th>...</th>\n",
              "      <td>...</td>\n",
              "      <td>...</td>\n",
              "      <td>...</td>\n",
              "    </tr>\n",
              "    <tr>\n",
              "      <th>2495</th>\n",
              "      <td>1065_10</td>\n",
              "      <td>Dark Angel is a futuristic sci-fi series, set ...</td>\n",
              "      <td>1</td>\n",
              "    </tr>\n",
              "    <tr>\n",
              "      <th>2496</th>\n",
              "      <td>7261_3</td>\n",
              "      <td>This British-Spanish co-production is one of t...</td>\n",
              "      <td>1</td>\n",
              "    </tr>\n",
              "    <tr>\n",
              "      <th>2497</th>\n",
              "      <td>11075_10</td>\n",
              "      <td>Having read the reviews for this film, I under...</td>\n",
              "      <td>1</td>\n",
              "    </tr>\n",
              "    <tr>\n",
              "      <th>2498</th>\n",
              "      <td>2041_2</td>\n",
              "      <td>Well I'll start with the good points. The movi...</td>\n",
              "      <td>0</td>\n",
              "    </tr>\n",
              "    <tr>\n",
              "      <th>2499</th>\n",
              "      <td>1988_9</td>\n",
              "      <td>First off, I'd like to make a correction on an...</td>\n",
              "      <td>1</td>\n",
              "    </tr>\n",
              "  </tbody>\n",
              "</table>\n",
              "<p>2500 rows × 3 columns</p>\n",
              "</div>"
            ],
            "text/plain": [
              "            id                                             review  predictions\n",
              "0      10633_1  I watched this video at a friend's house. I'm ...            0\n",
              "1       4489_1  `The Matrix' was an exciting summer blockbuste...            0\n",
              "2      3304_10  This movie is one among the very few Indian mo...            1\n",
              "3       3350_3  The script for this movie was probably found i...            0\n",
              "4       1119_1  Even if this film was allegedly a joke in resp...            0\n",
              "...        ...                                                ...          ...\n",
              "2495   1065_10  Dark Angel is a futuristic sci-fi series, set ...            1\n",
              "2496    7261_3  This British-Spanish co-production is one of t...            1\n",
              "2497  11075_10  Having read the reviews for this film, I under...            1\n",
              "2498    2041_2  Well I'll start with the good points. The movi...            0\n",
              "2499    1988_9  First off, I'd like to make a correction on an...            1\n",
              "\n",
              "[2500 rows x 3 columns]"
            ]
          },
          "metadata": {
            "tags": []
          },
          "execution_count": 86
        }
      ]
    },
    {
      "cell_type": "code",
      "metadata": {
        "id": "r0iSEtJ_ojRB",
        "colab_type": "code",
        "outputId": "5d5701e9-ab25-41d9-eb94-432d4c2dcf3e",
        "colab": {
          "base_uri": "https://localhost:8080/",
          "height": 164
        }
      },
      "source": [
        "print(classification_report(y_test, predictions))"
      ],
      "execution_count": 87,
      "outputs": [
        {
          "output_type": "stream",
          "text": [
            "              precision    recall  f1-score   support\n",
            "\n",
            "           0       0.90      0.87      0.88      2200\n",
            "           1       0.88      0.90      0.89      2300\n",
            "\n",
            "    accuracy                           0.89      4500\n",
            "   macro avg       0.89      0.89      0.89      4500\n",
            "weighted avg       0.89      0.89      0.89      4500\n",
            "\n"
          ],
          "name": "stdout"
        }
      ]
    },
    {
      "cell_type": "code",
      "metadata": {
        "id": "NGqK65lWhTG4",
        "colab_type": "code",
        "colab": {}
      },
      "source": [
        "data.to_csv('/content/gdrive/My Drive/CS_FTMLE_DataAnalysisTest_Vo Thi Kim Nguyet/nguyetvo.csv', index = False, header = True)"
      ],
      "execution_count": 0,
      "outputs": []
    },
    {
      "cell_type": "code",
      "metadata": {
        "id": "1_dN_GBViAww",
        "colab_type": "code",
        "colab": {}
      },
      "source": [
        "#Save the Optimized Model\n",
        "\n",
        "import pickle\n",
        "import os\n",
        "\n",
        "pickle.dump(clf, open(os.path.join('.', 'nguyetvo_logisticRegression_week5.pkl'), 'wb'), protocol=4)"
      ],
      "execution_count": 0,
      "outputs": []
    },
    {
      "cell_type": "markdown",
      "metadata": {
        "id": "mC6Tp3M6i7x4",
        "colab_type": "text"
      },
      "source": [
        "# **Models Performance Summary**\n",
        "\n",
        "Models : Logistic Regression\n",
        "\n",
        "Accuracy: 0.886\n",
        "\n",
        "**Conclusion**\n",
        "\n",
        "Sentiment classification methods above identify texts from the review dataset according to the users opinions toward movies, which are both negative (0) and positive (1). The extracted data should further enhance using feature classification techniques and these methopologies facilitate the keywords from the users reviews."
      ]
    }
  ]
}